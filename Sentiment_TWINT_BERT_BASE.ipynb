{
 "cells": [
  {
   "cell_type": "markdown",
   "metadata": {},
   "source": [
    "### Preparing the Dataset (Tweets extraction)"
   ]
  },
  {
   "cell_type": "code",
   "execution_count": 2,
   "metadata": {},
   "outputs": [],
   "source": [
    "import re\n",
    "import twint\n",
    "import torch\n",
    "import numpy as np\n",
    "import pandas as pd\n",
    "import seaborn as sns\n",
    "import matplotlib.pyplot as plt\n",
    "from transformers import AutoModelForSequenceClassification, AutoTokenizer\n",
    "\n",
    "\n",
    "# Solve compatibility issues with notebooks and RunTime errors\n",
    "import nest_asyncio\n",
    "nest_asyncio.apply()"
   ]
  },
  {
   "cell_type": "code",
   "execution_count": 3,
   "metadata": {},
   "outputs": [],
   "source": [
    "# Twint configurations to extract Tweets \n",
    "c = twint.Config()\n",
    "c.Search = \"vaccine\"\n",
    "c.Store_csv = True\n",
    "c.Output = \"./vaccine_02.csv\"\n",
    "c.Hide_output = True\n",
    "c.Limit = 50000 \n",
    "twint.run.Search(c)"
   ]
  },
  {
   "cell_type": "code",
   "execution_count": 4,
   "metadata": {},
   "outputs": [],
   "source": [
    "# Loading the Tweets Dataset into a Dataframe\n",
    "tweets_dataset = pd.read_csv(\"./vaccine_02.csv\")"
   ]
  },
  {
   "cell_type": "code",
   "execution_count": 5,
   "metadata": {},
   "outputs": [
    {
     "data": {
      "text/plain": [
       "Index(['id', 'conversation_id', 'created_at', 'date', 'time', 'timezone',\n",
       "       'user_id', 'username', 'name', 'place', 'tweet', 'language', 'mentions',\n",
       "       'urls', 'photos', 'replies_count', 'retweets_count', 'likes_count',\n",
       "       'hashtags', 'cashtags', 'link', 'retweet', 'quote_url', 'video',\n",
       "       'thumbnail', 'near', 'geo', 'source', 'user_rt_id', 'user_rt',\n",
       "       'retweet_id', 'reply_to', 'retweet_date', 'translate', 'trans_src',\n",
       "       'trans_dest'],\n",
       "      dtype='object')"
      ]
     },
     "execution_count": 5,
     "metadata": {},
     "output_type": "execute_result"
    }
   ],
   "source": [
    "# Checking features/columns\n",
    "tweets_dataset.columns"
   ]
  },
  {
   "cell_type": "code",
   "execution_count": 6,
   "metadata": {},
   "outputs": [
    {
     "data": {
      "text/html": [
       "<div>\n",
       "<style scoped>\n",
       "    .dataframe tbody tr th:only-of-type {\n",
       "        vertical-align: middle;\n",
       "    }\n",
       "\n",
       "    .dataframe tbody tr th {\n",
       "        vertical-align: top;\n",
       "    }\n",
       "\n",
       "    .dataframe thead th {\n",
       "        text-align: right;\n",
       "    }\n",
       "</style>\n",
       "<table border=\"1\" class=\"dataframe\">\n",
       "  <thead>\n",
       "    <tr style=\"text-align: right;\">\n",
       "      <th></th>\n",
       "      <th>tweet</th>\n",
       "    </tr>\n",
       "  </thead>\n",
       "  <tbody>\n",
       "    <tr>\n",
       "      <th>0</th>\n",
       "      <td>@f_philippot il a surtout atteint le niveau de...</td>\n",
       "    </tr>\n",
       "    <tr>\n",
       "      <th>1</th>\n",
       "      <td>\"We have not seen any significant—any data to ...</td>\n",
       "    </tr>\n",
       "    <tr>\n",
       "      <th>2</th>\n",
       "      <td>@WDRBNews Drop mask and vaccine requirements a...</td>\n",
       "    </tr>\n",
       "    <tr>\n",
       "      <th>3</th>\n",
       "      <td>@deepwebghost Also, to be totally fair, they d...</td>\n",
       "    </tr>\n",
       "    <tr>\n",
       "      <th>4</th>\n",
       "      <td>@Ugobernalicis Combien vacciné 🤔</td>\n",
       "    </tr>\n",
       "    <tr>\n",
       "      <th>...</th>\n",
       "      <td>...</td>\n",
       "    </tr>\n",
       "    <tr>\n",
       "      <th>55020</th>\n",
       "      <td>Nicola Sturgeon's mask and vaccine passport po...</td>\n",
       "    </tr>\n",
       "    <tr>\n",
       "      <th>55021</th>\n",
       "      <td>Robert Kennedy Jr. is one Kennedy where the ap...</td>\n",
       "    </tr>\n",
       "    <tr>\n",
       "      <th>55022</th>\n",
       "      <td>@VileAgatha @goeing_j @tonygoldmark @BronyDeba...</td>\n",
       "    </tr>\n",
       "    <tr>\n",
       "      <th>55023</th>\n",
       "      <td>@winstonpeters Yes Winnie. Finally!! The manda...</td>\n",
       "    </tr>\n",
       "    <tr>\n",
       "      <th>55024</th>\n",
       "      <td>@LisaMarieBoothe Conservative Propagandists:  ...</td>\n",
       "    </tr>\n",
       "  </tbody>\n",
       "</table>\n",
       "<p>55025 rows × 1 columns</p>\n",
       "</div>"
      ],
      "text/plain": [
       "                                                   tweet\n",
       "0      @f_philippot il a surtout atteint le niveau de...\n",
       "1      \"We have not seen any significant—any data to ...\n",
       "2      @WDRBNews Drop mask and vaccine requirements a...\n",
       "3      @deepwebghost Also, to be totally fair, they d...\n",
       "4                       @Ugobernalicis Combien vacciné 🤔\n",
       "...                                                  ...\n",
       "55020  Nicola Sturgeon's mask and vaccine passport po...\n",
       "55021  Robert Kennedy Jr. is one Kennedy where the ap...\n",
       "55022  @VileAgatha @goeing_j @tonygoldmark @BronyDeba...\n",
       "55023  @winstonpeters Yes Winnie. Finally!! The manda...\n",
       "55024  @LisaMarieBoothe Conservative Propagandists:  ...\n",
       "\n",
       "[55025 rows x 1 columns]"
      ]
     },
     "execution_count": 6,
     "metadata": {},
     "output_type": "execute_result"
    }
   ],
   "source": [
    "tweets = tweets_dataset[[\"tweet\"]]\n",
    "tweets"
   ]
  },
  {
   "cell_type": "code",
   "execution_count": 7,
   "metadata": {},
   "outputs": [],
   "source": [
    "# Function to clean the Tweets\n",
    "def clean_tweets(tweets):\n",
    "    tweets = re.sub(\"#vaccine\", \"vaccine\", tweets)\n",
    "    tweets = re.sub(\"#Vaccine\", \"Vaccine\", tweets)\n",
    "    tweets = re.sub(\"#[A-Za-z0-9]+\", \"\", tweets)\n",
    "    tweets = re.sub(\"\\\\n\", \"\", tweets)\n",
    "    tweets = re.sub(\"https?:\\/\\/\\S+\", \"\", tweets)\n",
    "    tweets = re.sub(\"@[A-Za-z0-9]+\", \"\", tweets)\n",
    "    return tweets"
   ]
  },
  {
   "cell_type": "code",
   "execution_count": 8,
   "metadata": {},
   "outputs": [
    {
     "data": {
      "text/html": [
       "<div>\n",
       "<style scoped>\n",
       "    .dataframe tbody tr th:only-of-type {\n",
       "        vertical-align: middle;\n",
       "    }\n",
       "\n",
       "    .dataframe tbody tr th {\n",
       "        vertical-align: top;\n",
       "    }\n",
       "\n",
       "    .dataframe thead th {\n",
       "        text-align: right;\n",
       "    }\n",
       "</style>\n",
       "<table border=\"1\" class=\"dataframe\">\n",
       "  <thead>\n",
       "    <tr style=\"text-align: right;\">\n",
       "      <th></th>\n",
       "      <th>tweet</th>\n",
       "    </tr>\n",
       "  </thead>\n",
       "  <tbody>\n",
       "    <tr>\n",
       "      <th>0</th>\n",
       "      <td>_philippot il a surtout atteint le niveau de l...</td>\n",
       "    </tr>\n",
       "    <tr>\n",
       "      <th>1</th>\n",
       "      <td>\"We have not seen any significant—any data to ...</td>\n",
       "    </tr>\n",
       "    <tr>\n",
       "      <th>2</th>\n",
       "      <td>Drop mask and vaccine requirements and there ...</td>\n",
       "    </tr>\n",
       "    <tr>\n",
       "      <th>3</th>\n",
       "      <td>Also, to be totally fair, they did expand une...</td>\n",
       "    </tr>\n",
       "    <tr>\n",
       "      <th>4</th>\n",
       "      <td>Combien vacciné 🤔</td>\n",
       "    </tr>\n",
       "    <tr>\n",
       "      <th>...</th>\n",
       "      <td>...</td>\n",
       "    </tr>\n",
       "    <tr>\n",
       "      <th>55020</th>\n",
       "      <td>Nicola Sturgeon's mask and vaccine passport po...</td>\n",
       "    </tr>\n",
       "    <tr>\n",
       "      <th>55021</th>\n",
       "      <td>Robert Kennedy Jr. is one Kennedy where the ap...</td>\n",
       "    </tr>\n",
       "    <tr>\n",
       "      <th>55022</th>\n",
       "      <td>_j   I have my beliefs on vaccines, he has his.</td>\n",
       "    </tr>\n",
       "    <tr>\n",
       "      <th>55023</th>\n",
       "      <td>Yes Winnie. Finally!! The mandates make no se...</td>\n",
       "    </tr>\n",
       "    <tr>\n",
       "      <th>55024</th>\n",
       "      <td>Conservative Propagandists:  Trump deserves c...</td>\n",
       "    </tr>\n",
       "  </tbody>\n",
       "</table>\n",
       "<p>55025 rows × 1 columns</p>\n",
       "</div>"
      ],
      "text/plain": [
       "                                                   tweet\n",
       "0      _philippot il a surtout atteint le niveau de l...\n",
       "1      \"We have not seen any significant—any data to ...\n",
       "2       Drop mask and vaccine requirements and there ...\n",
       "3       Also, to be totally fair, they did expand une...\n",
       "4                                      Combien vacciné 🤔\n",
       "...                                                  ...\n",
       "55020  Nicola Sturgeon's mask and vaccine passport po...\n",
       "55021  Robert Kennedy Jr. is one Kennedy where the ap...\n",
       "55022    _j   I have my beliefs on vaccines, he has his.\n",
       "55023   Yes Winnie. Finally!! The mandates make no se...\n",
       "55024   Conservative Propagandists:  Trump deserves c...\n",
       "\n",
       "[55025 rows x 1 columns]"
      ]
     },
     "execution_count": 8,
     "metadata": {},
     "output_type": "execute_result"
    }
   ],
   "source": [
    "# Cleaning the Tweets and adding to a DataFrame\n",
    "tweets_clean = pd.DataFrame(tweets.tweet.apply(clean_tweets))\n",
    "tweets_clean"
   ]
  },
  {
   "cell_type": "markdown",
   "metadata": {},
   "source": [
    "### Model Configuration"
   ]
  },
  {
   "cell_type": "code",
   "execution_count": 9,
   "metadata": {},
   "outputs": [],
   "source": [
    "# Pre-Trained model and tokenizer provided by HuggingFace\n",
    "tokenizer = AutoTokenizer.from_pretrained(\"nlptown/bert-base-multilingual-uncased-sentiment\")\n",
    "model = AutoModelForSequenceClassification.from_pretrained(\"nlptown/bert-base-multilingual-uncased-sentiment\")"
   ]
  },
  {
   "cell_type": "code",
   "execution_count": 10,
   "metadata": {},
   "outputs": [],
   "source": [
    "# Function to tokenize each Tweet, and the result of the model\n",
    "def sentiment_score(tweet):\n",
    "    tokens = tokenizer(tweet, padding=True, truncation=True, return_tensors=\"pt\", max_length=8)\n",
    "    result = model(**tokens)\n",
    "    return int(torch.argmax(result.logits))+1\n",
    "\n",
    "tweets_clean[\"sentiment\"] = tweets_clean[\"tweet\"].apply(lambda x: sentiment_score(x[:512]))"
   ]
  },
  {
   "cell_type": "code",
   "execution_count": 11,
   "metadata": {},
   "outputs": [
    {
     "data": {
      "text/plain": [
       "Text(0, 0.5, 'Count')"
      ]
     },
     "execution_count": 11,
     "metadata": {},
     "output_type": "execute_result"
    },
    {
     "data": {
      "image/png": "[encoded data removed]",
      "text/plain": [
       "<Figure size 432x288 with 1 Axes>"
      ]
     },
     "metadata": {},
     "output_type": "display_data"
    }
   ],
   "source": [
    "# The scale for the selected model is from 1(negative) to 5(positive)\n",
    "sns.set(style=\"whitegrid\", palette=\"muted\", font_scale=1.2)\n",
    "sns.countplot(x=tweets_clean[\"sentiment\"])\n",
    "plt.xlabel(\"Sentiment\")\n",
    "plt.ylabel(\"Count\")"
   ]
  },
  {
   "cell_type": "markdown",
   "metadata": {},
   "source": [
    "##### The 50.000 Tweets are from the date 02/09/2022 only, which by the results, we can see the impressions are very distributed, about the term \"vaccine\".\n",
    "##### The model used https://huggingface.co/nlptown/bert-base-multilingual-uncased-sentiment  \n"
   ]
  }
 ],
 "metadata": {
  "interpreter": {
   "hash": "b3ba2566441a7c06988d0923437866b63cedc61552a5af99d1f4fb67d367b25f"
  },
  "kernelspec": {
   "display_name": "Python 3.8.12 64-bit ('base': conda)",
   "language": "python",
   "name": "python3"
  },
  "language_info": {
   "codemirror_mode": {
    "name": "ipython",
    "version": 3
   },
   "file_extension": ".py",
   "mimetype": "text/x-python",
   "name": "python",
   "nbconvert_exporter": "python",
   "pygments_lexer": "ipython3",
   "version": "3.8.12"
  },
  "orig_nbformat": 4
 },
 "nbformat": 4,
 "nbformat_minor": 2
}
